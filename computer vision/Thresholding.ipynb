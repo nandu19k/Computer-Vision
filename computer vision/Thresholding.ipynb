{
 "cells": [
  {
   "cell_type": "code",
   "execution_count": 1,
   "metadata": {},
   "outputs": [],
   "source": [
    "import cv2\n",
    "import numpy as np"
   ]
  },
  {
   "cell_type": "code",
   "execution_count": 4,
   "metadata": {},
   "outputs": [],
   "source": [
    "image = cv2.imread('./images/input.jpg')"
   ]
  },
  {
   "cell_type": "code",
   "execution_count": 11,
   "metadata": {},
   "outputs": [],
   "source": [
    "cv2.imshow('Original image' , image)\n",
    "cv2.waitKey()\n",
    "\n",
    "# Values below 127 goes to 0 (black, everything above goes to 255 (white)\n",
    "_ , thresh1 = cv2.threshold(image , 127, 255, cv2.THRESH_BINARY)\n",
    "cv2.imshow('Threshold image', thresh1)\n",
    "cv2.waitKey()\n",
    "\n",
    "# Values below 127 go to 255 and values above 127 go to 0 \n",
    "_ , thresh2 = cv2.threshold(image , 127 , 255 , cv2.THRESH_BINARY_INV)\n",
    "cv2.imshow('Thresh' , thresh2)\n",
    "cv2.waitKey()\n",
    "\n",
    "\n",
    "# Values above 127 are truncated (held) at 127 (the 255 argument is unused)\n",
    "_ , thresh3 = cv2.threshold(image , 127 , 255 , cv2.THRESH_TRUNC)\n",
    "cv2.imshow('Thresh trunc' , thresh3)\n",
    "cv2.waitKey()\n",
    "\n",
    "\n",
    "#Values below 127 go to 0, above 127 are unchanged\n",
    "_ , thresh4 = cv2.threshold(image , 127 , 255 , cv2.THRESH_TOZERO)\n",
    "cv2.imshow('Thresh to zero' , thresh4)\n",
    "cv2.waitKey()\n",
    "\n",
    "# Resever of above, below 127 is unchanged, above 127 goes to 0\n",
    "_ , thresh5 = cv2.threshold(image , 127 , 255 , cv2.THRESH_TOZERO_INV)\n",
    "cv2.imshow('Thresh to zero INV' , thresh5)\n",
    "cv2.waitKey()\n",
    "\n",
    "\n",
    "cv2.destroyAllWindows()"
   ]
  }
 ],
 "metadata": {
  "kernelspec": {
   "display_name": "Python 3",
   "language": "python",
   "name": "python3"
  },
  "language_info": {
   "codemirror_mode": {
    "name": "ipython",
    "version": 3
   },
   "file_extension": ".py",
   "mimetype": "text/x-python",
   "name": "python",
   "nbconvert_exporter": "python",
   "pygments_lexer": "ipython3",
   "version": "3.7.6"
  }
 },
 "nbformat": 4,
 "nbformat_minor": 4
}
