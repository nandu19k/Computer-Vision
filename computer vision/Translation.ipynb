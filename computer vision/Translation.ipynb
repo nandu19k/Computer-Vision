{
 "cells": [
  {
   "cell_type": "code",
   "execution_count": 1,
   "metadata": {},
   "outputs": [],
   "source": [
    "import cv2\n",
    "import numpy as np"
   ]
  },
  {
   "cell_type": "code",
   "execution_count": 4,
   "metadata": {},
   "outputs": [],
   "source": [
    "image = cv2.imread('./images/smith.jpg')\n",
    "cv2.imshow('Original' , image)\n",
    "cv2.waitKey()\n",
    "\n",
    "height , width = image.shape[:2]\n",
    "\n",
    "new_h , new_w = height/3 , width/3\n",
    "\n",
    "T = np.float32([[1 , 0 , new_w] , [0,1,new_h]])\n",
    "\n",
    "img_translation = cv2.warpAffine(image , T , (width , height))\n",
    "\n",
    "cv2.imshow('Tanslation' , img_translation)\n",
    "cv2.waitKey()\n",
    "\n",
    "\n",
    "cv2.destroyAllWindows()"
   ]
  }
 ],
 "metadata": {
  "kernelspec": {
   "display_name": "Python 3",
   "language": "python",
   "name": "python3"
  },
  "language_info": {
   "codemirror_mode": {
    "name": "ipython",
    "version": 3
   },
   "file_extension": ".py",
   "mimetype": "text/x-python",
   "name": "python",
   "nbconvert_exporter": "python",
   "pygments_lexer": "ipython3",
   "version": "3.7.6"
  }
 },
 "nbformat": 4,
 "nbformat_minor": 4
}
