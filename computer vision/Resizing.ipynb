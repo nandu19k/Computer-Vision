{
 "cells": [
  {
   "cell_type": "code",
   "execution_count": 1,
   "metadata": {},
   "outputs": [],
   "source": [
    "import cv2\n",
    "import numpy as np"
   ]
  },
  {
   "cell_type": "code",
   "execution_count": 2,
   "metadata": {},
   "outputs": [],
   "source": [
    "image = cv2.imread('./images/smith.jpg')\n",
    "cv2.imshow('Original Image' , image)\n",
    "cv2.waitKey()\n",
    "cv2.destroyAllWindows()"
   ]
  },
  {
   "cell_type": "raw",
   "metadata": {},
   "source": [
    "cv2.resize(image, dsize(output image size), x scale, y scale, interpolation)"
   ]
  },
  {
   "cell_type": "code",
   "execution_count": 4,
   "metadata": {},
   "outputs": [],
   "source": [
    "cv2.imshow('Original Image' , image)\n",
    "cv2.waitKey()\n",
    "\n",
    "image_scaled = cv2.resize(image , None , fx=0.5 , fy=0.5)\n",
    "cv2.imshow('Re-Sizd Image -- Linear Interpolation' , image_scaled)\n",
    "cv2.waitKey()\n",
    "cv2.destroyAllWindows()"
   ]
  },
  {
   "cell_type": "code",
   "execution_count": 5,
   "metadata": {},
   "outputs": [],
   "source": [
    "cv2.imshow('Original Image' , image)\n",
    "cv2.waitKey()\n",
    "\n",
    "image_scaled = cv2.resize(image , None , fx=2 , fy = 2 ,interpolation = cv2.INTER_CUBIC )\n",
    "cv2.imshow('Re-Sizd Image -- cubic Interpolation' , image_scaled)\n",
    "cv2.waitKey()\n",
    "cv2.destroyAllWindows()"
   ]
  },
  {
   "cell_type": "code",
   "execution_count": 7,
   "metadata": {},
   "outputs": [],
   "source": [
    "cv2.imshow('Original Image' , image)\n",
    "cv2.waitKey()\n",
    "\n",
    "image_scaled = cv2.resize(image , (500 , 800) , interpolation = cv2.INTER_AREA)\n",
    "cv2.imshow('Re-Sizd Image -- skewed size Interpolation' , image_scaled)\n",
    "cv2.waitKey()\n",
    "cv2.destroyAllWindows()"
   ]
  }
 ],
 "metadata": {
  "kernelspec": {
   "display_name": "Python 3",
   "language": "python",
   "name": "python3"
  },
  "language_info": {
   "codemirror_mode": {
    "name": "ipython",
    "version": 3
   },
   "file_extension": ".py",
   "mimetype": "text/x-python",
   "name": "python",
   "nbconvert_exporter": "python",
   "pygments_lexer": "ipython3",
   "version": "3.7.6"
  }
 },
 "nbformat": 4,
 "nbformat_minor": 4
}
