{
 "cells": [
  {
   "cell_type": "code",
   "execution_count": 1,
   "metadata": {},
   "outputs": [],
   "source": [
    "import cv2\n",
    "import numpy as np"
   ]
  },
  {
   "cell_type": "code",
   "execution_count": 2,
   "metadata": {},
   "outputs": [],
   "source": [
    "image = cv2.imread('./images/smith.jpg')"
   ]
  },
  {
   "cell_type": "code",
   "execution_count": 3,
   "metadata": {},
   "outputs": [],
   "source": [
    "kernel = np.ones((3,3) , np.float32)/9"
   ]
  },
  {
   "cell_type": "code",
   "execution_count": 4,
   "metadata": {},
   "outputs": [],
   "source": [
    "cv2.imshow('Original Image' , image)\n",
    "cv2.waitKey()\n",
    "\n",
    "blurred = cv2.filter2D(image , -1 , kernel)\n",
    "cv2.imshow('Blurred Image' , blurred)\n",
    "cv2.waitKey()\n",
    "cv2.destroyAllWindows()"
   ]
  },
  {
   "cell_type": "code",
   "execution_count": 5,
   "metadata": {},
   "outputs": [],
   "source": [
    "cv2.imshow('Original Image' , image)\n",
    "cv2.waitKey()\n",
    "\n",
    "kernel = np.ones((7,7) , np.float32)/49\n",
    "\n",
    "blurred = cv2.filter2D(image , -1 , kernel)\n",
    "cv2.imshow(\"Blurred Image\" , blurred)\n",
    "cv2.waitKey()\n",
    "cv2.destroyAllWindows()"
   ]
  },
  {
   "cell_type": "code",
   "execution_count": 6,
   "metadata": {},
   "outputs": [],
   "source": [
    "cv2.imshow('Original Image' , image)\n",
    "cv2.waitKey()\n",
    "\n",
    "img = cv2.blur(image , (3,3))\n",
    "cv2.imshow('Blur' , img)\n",
    "cv2.waitKey()\n",
    "\n",
    "img1 = cv2.GaussianBlur(image , (7,7) , 0)\n",
    "cv2.imshow('Gaussian Blur' , img1)\n",
    "cv2.waitKey()\n",
    "\n",
    "img2 = cv2.medianBlur(image , 5)\n",
    "cv2.imshow('Median Blur' , img2)\n",
    "cv2.waitKey()\n",
    "\n",
    "img3 = cv2.bilateralFilter(image , 9 , 75,75)\n",
    "cv2.imshow('Bilateral Filter' , img3)\n",
    "cv2.waitKey()\n",
    "cv2.destroyAllWindows()"
   ]
  }
 ],
 "metadata": {
  "kernelspec": {
   "display_name": "Python 3",
   "language": "python",
   "name": "python3"
  },
  "language_info": {
   "codemirror_mode": {
    "name": "ipython",
    "version": 3
   },
   "file_extension": ".py",
   "mimetype": "text/x-python",
   "name": "python",
   "nbconvert_exporter": "python",
   "pygments_lexer": "ipython3",
   "version": "3.7.6"
  }
 },
 "nbformat": 4,
 "nbformat_minor": 4
}
