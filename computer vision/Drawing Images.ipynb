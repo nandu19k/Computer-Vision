{
 "cells": [
  {
   "cell_type": "code",
   "execution_count": 1,
   "metadata": {},
   "outputs": [],
   "source": [
    "import cv2\n",
    "import numpy as np"
   ]
  },
  {
   "cell_type": "code",
   "execution_count": 2,
   "metadata": {},
   "outputs": [],
   "source": [
    "#creating a black image\n",
    "image = np.zeros((256,512,3) , np.uint8)\n",
    "\n",
    "image_bw = np.zeros((512 , 512) , np.uint8)\n",
    "\n",
    "cv2.imshow(\"Balck Rectangle(Color)\" , image)\n",
    "\n",
    "cv2.waitKey()\n",
    "\n",
    "cv2.imshow(\"Black Rectangle(BW)\" , image_bw)\n",
    "\n",
    "cv2.waitKey()\n",
    "cv2.destroyAllWindows()"
   ]
  },
  {
   "cell_type": "code",
   "execution_count": 6,
   "metadata": {},
   "outputs": [],
   "source": [
    "#Draw a diagonal line of thickness 5 pixels\n",
    "\n",
    "cv2.line(image , (0,0) , (511 , 255) , (255 , 0 , 65) , 12)\n",
    "cv2.imshow(\"Line\" , image)\n",
    "cv2.waitKey()\n",
    "cv2.destroyAllWindows()"
   ]
  },
  {
   "cell_type": "code",
   "execution_count": 11,
   "metadata": {},
   "outputs": [],
   "source": [
    "# Let's now draw a rectangle\n",
    "#cv2.rectangle(image, starting vertex, opposite vertex, color, thickness)\n",
    "\n",
    "image = np.zeros((512 , 512 , 3) , np.uint8)\n",
    "cv2.rectangle(image , (100 , 100 ) , (500,250) , (255 , 255,0) , -1)\n",
    "cv2.imshow(\"Rectangle\" , image)\n",
    "cv2.waitKey()\n",
    "cv2.destroyAllWindows()"
   ]
  },
  {
   "cell_type": "code",
   "execution_count": 17,
   "metadata": {},
   "outputs": [],
   "source": [
    "#cirlcles\n",
    "\n",
    "#cv2.cirlce(image, center, radius, color, fill)\n",
    "\n",
    "\n",
    "image  = np.zeros((512 ,512,3) , np.uint8)\n",
    "cv2.circle(image , (350,350 ) , 100 , (15 , 55 , 255) , -1)\n",
    "cv2.imshow('Circle' , image)\n",
    "cv2.waitKey(0)\n",
    "cv2.destroyAllWindows()"
   ]
  },
  {
   "cell_type": "markdown",
   "metadata": {},
   "source": [
    "# Add text with cv2.putText\n",
    "\n",
    "cv2.putText(image, 'Text to Display', bottom left starting point, Font, Font Size, Color, Thickness)\n",
    "\n",
    "- FONT_HERSHEY_SIMPLEX, FONT_HERSHEY_PLAIN\n",
    "- FONT_HERSHEY_DUPLEX,FONT_HERSHEY_COMPLEX \n",
    "- FONT_HERSHEY_TRIPLEX, FONT_HERSHEY_COMPLEX_SMALL\n",
    "- FONT_HERSHEY_SCRIPT_SIMPLEX\n",
    "- FONT_HERSHEY_SCRIPT_COMPLEX"
   ]
  },
  {
   "cell_type": "code",
   "execution_count": 23,
   "metadata": {},
   "outputs": [],
   "source": [
    "image = np.zeros((512,512,3) , np.uint8)\n",
    "\n",
    "cv2.putText(image , 'Nerchuko' , (75,260) , cv2.FONT_HERSHEY_DUPLEX , 2 , (255 , 56 , 89) , 3)\n",
    "cv2.imshow('Welcome to my channel' , image)\n",
    "cv2.waitKey()\n",
    "cv2.destroyAllWindows()"
   ]
  }
 ],
 "metadata": {
  "kernelspec": {
   "display_name": "Python 3",
   "language": "python",
   "name": "python3"
  },
  "language_info": {
   "codemirror_mode": {
    "name": "ipython",
    "version": 3
   },
   "file_extension": ".py",
   "mimetype": "text/x-python",
   "name": "python",
   "nbconvert_exporter": "python",
   "pygments_lexer": "ipython3",
   "version": "3.7.6"
  }
 },
 "nbformat": 4,
 "nbformat_minor": 4
}
