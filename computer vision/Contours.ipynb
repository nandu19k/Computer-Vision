{
 "cells": [
  {
   "cell_type": "code",
   "execution_count": 1,
   "metadata": {},
   "outputs": [],
   "source": [
    "import cv2\n",
    "import numpy as np"
   ]
  },
  {
   "cell_type": "code",
   "execution_count": 5,
   "metadata": {
    "scrolled": true
   },
   "outputs": [
    {
     "name": "stdout",
     "output_type": "stream",
     "text": [
      "Total no of contours are 3\n"
     ]
    }
   ],
   "source": [
    "image = cv2.imread('./images/shapes.jpg')\n",
    "cv2.imshow('Original Image' , image)\n",
    "cv2.waitKey()\n",
    "\n",
    "gray = cv2.cvtColor(image , cv2.COLOR_BGR2GRAY)\n",
    "\n",
    "edges = cv2.Canny(gray ,30 , 200 )\n",
    "cv2.imshow('Edge image' , edges)\n",
    "cv2.waitKey()\n",
    "\n",
    "_ , contours , hierarchy = cv2.findContours(edges , cv2.RETR_EXTERNAL , cv2.CHAIN_APPROX_NONE)\n",
    "cv2.imshow('Canny edges after contouring' , edges)\n",
    "cv2.waitKey()\n",
    "\n",
    "print('Total no of contours are '+ str(len(contours)))\n",
    "\n",
    "cv2.drawContours(image , contours , -1 , (255 , 0 , 255) , 4)\n",
    "cv2.imshow('Contours' , image)\n",
    "cv2.waitKey()\n",
    "\n",
    "cv2.destroyAllWindows()"
   ]
  }
 ],
 "metadata": {
  "kernelspec": {
   "display_name": "Python 3",
   "language": "python",
   "name": "python3"
  },
  "language_info": {
   "codemirror_mode": {
    "name": "ipython",
    "version": 3
   },
   "file_extension": ".py",
   "mimetype": "text/x-python",
   "name": "python",
   "nbconvert_exporter": "python",
   "pygments_lexer": "ipython3",
   "version": "3.6.10"
  }
 },
 "nbformat": 4,
 "nbformat_minor": 4
}
