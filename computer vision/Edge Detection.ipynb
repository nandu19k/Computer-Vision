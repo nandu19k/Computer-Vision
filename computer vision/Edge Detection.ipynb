{
 "cells": [
  {
   "cell_type": "code",
   "execution_count": 1,
   "metadata": {},
   "outputs": [],
   "source": [
    "import cv2\n",
    "import numpy as np"
   ]
  },
  {
   "cell_type": "code",
   "execution_count": 4,
   "metadata": {},
   "outputs": [],
   "source": [
    "image = cv2.imread('./images/smith.jpg' , 0)"
   ]
  },
  {
   "cell_type": "code",
   "execution_count": 11,
   "metadata": {},
   "outputs": [],
   "source": [
    "cv2.imshow('Original Image' , image)\n",
    "cv2.waitKey()\n",
    "\n",
    "#extract sobel edges\n",
    "sobel_x = cv2.Sobel(image , cv2.CV_64F , 0 , 1 ,ksize=5 )\n",
    "sobel_y = cv2.Sobel(image , cv2.CV_64F , 1 , 0 , ksize=5)\n",
    "\n",
    "cv2.imshow('Sobel_x' , sobel_x)\n",
    "cv2.waitKey()\n",
    "\n",
    "cv2.imshow('sobel_y' , sobel_y)\n",
    "cv2.waitKey()\n",
    "\n",
    "sobel_OR = cv2.bitwise_or(sobel_x , sobel_y)\n",
    "cv2.imshow('Sobel_OR' , sobel_OR)\n",
    "cv2.waitKey()\n",
    "\n",
    "#extract laplacian edges\n",
    "laplacian = cv2.Laplacian(image , cv2.CV_64F)\n",
    "cv2.imshow(\"Laplacian\" , laplacian)\n",
    "cv2.waitKey()\n",
    "\n",
    "#extract canny edges\n",
    "#popular edge detection technique\n",
    "\n",
    "##  Then, we need to provide two values: threshold1 and threshold2. Any gradient value larger than threshold2\n",
    "# is considered to be an edge. Any value below threshold1 is considered not to be an edge. \n",
    "#Values in between threshold1 and threshold2 are either classiﬁed as edges or non-edges based on how their \n",
    "#intensities are “connected”. In this case, any gradient values below 60 are considered non-edges\n",
    "#whereas any values above 120 are considered edges.\n",
    "\n",
    "canny = cv2.Canny(image , 60 , 120)\n",
    "cv2.imshow('Canny edge detection' , canny)\n",
    "cv2.waitKey()\n",
    "\n",
    "canny1 = cv2.Canny(image , 160 , 200)\n",
    "cv2.imshow('Canny edge detection - 1' , canny1)\n",
    "cv2.waitKey()\n",
    "cv2.destroyAllWindows()"
   ]
  }
 ],
 "metadata": {
  "kernelspec": {
   "display_name": "Python 3",
   "language": "python",
   "name": "python3"
  },
  "language_info": {
   "codemirror_mode": {
    "name": "ipython",
    "version": 3
   },
   "file_extension": ".py",
   "mimetype": "text/x-python",
   "name": "python",
   "nbconvert_exporter": "python",
   "pygments_lexer": "ipython3",
   "version": "3.7.6"
  }
 },
 "nbformat": 4,
 "nbformat_minor": 4
}
