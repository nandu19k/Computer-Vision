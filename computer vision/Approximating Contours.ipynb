{
 "cells": [
  {
   "cell_type": "code",
   "execution_count": 1,
   "metadata": {},
   "outputs": [],
   "source": [
    "import cv2\n",
    "import numpy as np"
   ]
  },
  {
   "cell_type": "code",
   "execution_count": 2,
   "metadata": {},
   "outputs": [],
   "source": [
    "image = cv2.imread('./images/house.jpg')\n",
    "\n",
    "cv2.imshow('House Image' , image)\n",
    "cv2.waitKey()\n",
    "cv2.destroyAllWindows()"
   ]
  },
  {
   "cell_type": "code",
   "execution_count": 3,
   "metadata": {},
   "outputs": [],
   "source": [
    "gray = cv2.cvtColor(image , cv2.COLOR_BGR2GRAY)\n",
    "\n",
    "ret , thresh = cv2.threshold(gray , 127,255 , cv2.THRESH_BINARY_INV)\n",
    "\n",
    "_ , contours,hierarchy = cv2.findContours(thresh , cv2.RETR_LIST , cv2.CHAIN_APPROX_NONE)\n",
    "\n",
    "for c in contours:\n",
    "    x,y,w,h = cv2.boundingRect(c)\n",
    "    cv2.rectangle(image , (x,y) , (x+w , y+h) , (0,255,58) , 3)\n",
    "    cv2.imshow('contour Image' , image)\n",
    "    cv2.waitKey()\n",
    "    \n",
    "#cv2.approxPolyDP(contour, Approximation Accuracy, Closed)\n",
    "\n",
    "for c in contours:\n",
    "    accuracy = cv2.arcLength(c , True)*0.03\n",
    "    approx = cv2.approxPolyDP(c , accuracy , True)\n",
    "    cv2.drawContours(image , [approx] , 0 , (0,45,65) , 3)\n",
    "    cv2.imshow('Approximated Contours' , image)\n",
    "    cv2.waitKey()\n",
    "\n",
    "\n",
    "cv2.destroyAllWindows()"
   ]
  }
 ],
 "metadata": {
  "kernelspec": {
   "display_name": "Python 3",
   "language": "python",
   "name": "python3"
  },
  "language_info": {
   "codemirror_mode": {
    "name": "ipython",
    "version": 3
   },
   "file_extension": ".py",
   "mimetype": "text/x-python",
   "name": "python",
   "nbconvert_exporter": "python",
   "pygments_lexer": "ipython3",
   "version": "3.6.10"
  }
 },
 "nbformat": 4,
 "nbformat_minor": 4
}
